{
  "nbformat": 4,
  "nbformat_minor": 0,
  "metadata": {
    "colab": {
      "provenance": []
    },
    "kernelspec": {
      "name": "python3",
      "display_name": "Python 3"
    },
    "language_info": {
      "name": "python"
    }
  },
  "cells": [
    {
      "cell_type": "code",
      "execution_count": 4,
      "metadata": {
        "colab": {
          "base_uri": "https://localhost:8080/"
        },
        "id": "lVu7GFvqjCQ2",
        "outputId": "3c548dfe-f3f2-45c3-8c0c-0f1d4bfb2b70"
      },
      "outputs": [
        {
          "output_type": "stream",
          "name": "stdout",
          "text": [
            "      ID     Project       Cost    Status\n",
            "0   A001   Project 1  1002000.0  Finished\n",
            "1   A002   Project 2  2000000.0   Ongoing\n",
            "2   A003   Project 3  4500000.0  Finished\n",
            "3   A004   Project 4  5500000.0   Ongoing\n",
            "4   A005   Project 5        NaN  Finished\n",
            "5   A002   Project 6   680000.0    Failed\n",
            "6   A005   Project 7   400000.0  Finished\n",
            "7   A003   Project 8   350000.0    Failed\n",
            "8   A001   Project 9        NaN   Ongoing\n",
            "9   A003  Project 10   300000.0  Finished\n",
            "10  A001  Project 11  2000000.0    Failed\n",
            "11  A004  Project 12  1000000.0   Ongoing\n",
            "12  A004  Project 13  3000000.0  Finished\n",
            "13  A005  Project 14   200000.0  Finished\n"
          ]
        }
      ],
      "source": [
        "import pandas as pd\n",
        "\n",
        "#Enter the data for project dataframe\n",
        "project_data = {\n",
        "    'ID': ['A001', 'A002', 'A003', 'A004', 'A005', 'A002', 'A005', 'A003', 'A001', 'A003', 'A001', 'A004', 'A004', 'A005'],\n",
        "    'Project': [\n",
        "        'Project 1', 'Project 2', 'Project 3', 'Project 4', 'Project 5', 'Project 6', 'Project 7',\n",
        "        'Project 8', 'Project 9', 'Project 10', 'Project 11', 'Project 12', 'Project 13', 'Project 14'\n",
        "    ],\n",
        "    'Cost': [\n",
        "        1002000, 2000000, 4500000, 5500000, None, 680000, 400000, 350000,\n",
        "        None, 300000, 2000000, 1000000, 3000000, 200000\n",
        "    ],\n",
        "    'Status': [\n",
        "        'Finished', 'Ongoing', 'Finished', 'Ongoing', 'Finished', 'Failed', 'Finished',\n",
        "        'Failed', 'Ongoing', 'Finished', 'Failed', 'Ongoing', 'Finished', 'Finished'\n",
        "    ]\n",
        "}\n",
        "\n",
        "#Creating the DataFrame\n",
        "project_df = pd.DataFrame(project_data)\n",
        "\n",
        "#Saving to CSV\n",
        "project_df.to_csv('Project.csv', index=False)\n",
        "\n",
        "#Display the dataframe\n",
        "print(project_df)\n"
      ]
    },
    {
      "cell_type": "code",
      "source": [
        "import pandas as pd\n",
        "\n",
        "#Enter the data for Employee dataframe\n",
        "employee_data = {\n",
        "    'ID': ['A001', 'A002', 'A003', 'A004', 'A005'],\n",
        "    'Name': ['John Alter', 'Alice Luxumberg', 'Tom Sabestine', 'Nina Adgra', 'Amy Johny'],\n",
        "    'Gender': ['M', 'F', 'M', 'F', 'F'],\n",
        "    'City': ['Paris', 'London', 'Berlin', 'Newyork', 'Madrid'],\n",
        "    'Age': [25, 27, 29, 31, 30]\n",
        "}\n",
        "\n",
        "#Creating DataFrame\n",
        "employee_df = pd.DataFrame(employee_data)\n",
        "\n",
        "#Saving to CSV\n",
        "employee_df.to_csv('Employee.csv', index=False)\n",
        "\n",
        "#Display the dataframe\n",
        "print(employee_df)\n"
      ],
      "metadata": {
        "colab": {
          "base_uri": "https://localhost:8080/"
        },
        "id": "eHH8JBZajvgb",
        "outputId": "e756df7b-7e77-4526-d853-65749d104ac7"
      },
      "execution_count": 5,
      "outputs": [
        {
          "output_type": "stream",
          "name": "stdout",
          "text": [
            "     ID             Name Gender     City  Age\n",
            "0  A001       John Alter      M    Paris   25\n",
            "1  A002  Alice Luxumberg      F   London   27\n",
            "2  A003    Tom Sabestine      M   Berlin   29\n",
            "3  A004       Nina Adgra      F  Newyork   31\n",
            "4  A005        Amy Johny      F   Madrid   30\n"
          ]
        }
      ]
    },
    {
      "cell_type": "code",
      "source": [
        "import pandas as pd\n",
        "\n",
        "#Enter the data for Seniority Level dataframe\n",
        "seniority_data = {\n",
        "    'ID': ['A001', 'A002', 'A003', 'A004', 'A005'],\n",
        "    'Designation_Level': [2, 2, 3, 2, 3]\n",
        "}\n",
        "\n",
        "#Creating the DataFrame\n",
        "seniority_df = pd.DataFrame(seniority_data)\n",
        "\n",
        "#Saving to CSV\n",
        "seniority_df.to_csv('Seniority_Level.csv', index=False)\n",
        "\n",
        "#Display the dataframe\n",
        "print(seniority_df)\n"
      ],
      "metadata": {
        "colab": {
          "base_uri": "https://localhost:8080/"
        },
        "id": "xArPfu09kYcW",
        "outputId": "a9765edc-91eb-4a1c-d903-33ddaa1f5b82"
      },
      "execution_count": 6,
      "outputs": [
        {
          "output_type": "stream",
          "name": "stdout",
          "text": [
            "     ID  Designation_Level\n",
            "0  A001                  2\n",
            "1  A002                  2\n",
            "2  A003                  3\n",
            "3  A004                  2\n",
            "4  A005                  3\n"
          ]
        }
      ]
    },
    {
      "cell_type": "code",
      "source": [
        "import pandas as pd\n",
        "import numpy as np\n",
        "\n",
        "#Load the project csv\n",
        "project_df = pd.read_csv('Project.csv')\n",
        "\n",
        "#Converting Cost to float as \"NaN\" is present in cost column\n",
        "project_df['Cost'] = project_df['Cost'].astype(float)\n",
        "\n",
        "#Fill missing values using running average\n",
        "running_sum = 0\n",
        "count = 0\n",
        "\n",
        "#Using for loop\n",
        "\n",
        "for i in range(len(project_df)):\n",
        "    if pd.isna(project_df.loc[i, 'Cost']):\n",
        "        if count == 0:\n",
        "            project_df.loc[i, 'Cost'] = 0\n",
        "        else:\n",
        "            project_df.loc[i, 'Cost'] = running_sum / count\n",
        "    running_sum += project_df.loc[i, 'Cost']\n",
        "    count += 1\n",
        "\n",
        "#Save it to Project dataframe\n",
        "project_df.to_csv('Project.csv', index=False)\n",
        "\n",
        "#Display the output\n",
        "print(project_df)\n"
      ],
      "metadata": {
        "colab": {
          "base_uri": "https://localhost:8080/"
        },
        "id": "5Sczun2ok7Qt",
        "outputId": "f03bdf69-f9f7-49eb-f930-c1f6b5eada85"
      },
      "execution_count": 7,
      "outputs": [
        {
          "output_type": "stream",
          "name": "stdout",
          "text": [
            "      ID     Project       Cost    Status\n",
            "0   A001   Project 1  1002000.0  Finished\n",
            "1   A002   Project 2  2000000.0   Ongoing\n",
            "2   A003   Project 3  4500000.0  Finished\n",
            "3   A004   Project 4  5500000.0   Ongoing\n",
            "4   A005   Project 5  3250500.0  Finished\n",
            "5   A002   Project 6   680000.0    Failed\n",
            "6   A005   Project 7   400000.0  Finished\n",
            "7   A003   Project 8   350000.0    Failed\n",
            "8   A001   Project 9  2210312.5   Ongoing\n",
            "9   A003  Project 10   300000.0  Finished\n",
            "10  A001  Project 11  2000000.0    Failed\n",
            "11  A004  Project 12  1000000.0   Ongoing\n",
            "12  A004  Project 13  3000000.0  Finished\n",
            "13  A005  Project 14   200000.0  Finished\n"
          ]
        }
      ]
    },
    {
      "cell_type": "code",
      "source": [
        "import pandas as pd\n",
        "\n",
        "#Load the Employee CSV\n",
        "employee_df = pd.read_csv('Employee.csv')\n",
        "\n",
        "#Splitting the 'Name' column into 'First Name' and 'LastName'\n",
        "employee_df[['First Name', 'LastName']] = employee_df['Name'].str.split(n=1, expand=True)\n",
        "\n",
        "#Drop the 'Name' column\n",
        "employee_df.drop(columns=['Name'], inplace=True)\n",
        "\n",
        "#Save it to Employee CSV dataframe\n",
        "employee_df.to_csv('Employee.csv', index=False)\n",
        "\n",
        "#Display the output\n",
        "print(employee_df)\n"
      ],
      "metadata": {
        "colab": {
          "base_uri": "https://localhost:8080/"
        },
        "id": "ZBsZtceWmuRA",
        "outputId": "30f8cc44-c020-4f44-89f7-0676485ccaf2"
      },
      "execution_count": 9,
      "outputs": [
        {
          "output_type": "stream",
          "name": "stdout",
          "text": [
            "     ID Gender     City  Age First Name   LastName\n",
            "0  A001      M    Paris   25       John      Alter\n",
            "1  A002      F   London   27      Alice  Luxumberg\n",
            "2  A003      M   Berlin   29        Tom  Sabestine\n",
            "3  A004      F  Newyork   31       Nina      Adgra\n",
            "4  A005      F   Madrid   30        Amy      Johny\n"
          ]
        }
      ]
    },
    {
      "cell_type": "code",
      "source": [
        "import pandas as pd\n",
        "\n",
        "#Load all three CSVs\n",
        "employee_df = pd.read_csv('Employee.csv')\n",
        "seniority_df = pd.read_csv('Seniority_Level.csv')\n",
        "project_df = pd.read_csv('Project.csv')  # or 'Project_Filled.csv' if you're using that\n",
        "\n",
        "#Merge Employee with Seniority_Level on 'ID'\n",
        "emp_senior = pd.merge(employee_df, seniority_df, on='ID', how='inner')\n",
        "\n",
        "#Merge the result with Project on 'ID'\n",
        "Final = pd.merge(emp_senior, project_df, on='ID', how='inner')\n",
        "\n",
        "#Save it as \"Final\" dataframe\n",
        "Final.to_csv('Final.csv', index=False)\n",
        "\n",
        "#Display Final DataFrame\n",
        "print(Final)\n"
      ],
      "metadata": {
        "colab": {
          "base_uri": "https://localhost:8080/"
        },
        "id": "sF3vHjjypCAV",
        "outputId": "e068d9cf-4b9f-4e02-87eb-bc1b1afd89ce"
      },
      "execution_count": 12,
      "outputs": [
        {
          "output_type": "stream",
          "name": "stdout",
          "text": [
            "      ID Gender     City  Age First Name   LastName  Designation_Level  \\\n",
            "0   A001      M    Paris   25       John      Alter                  2   \n",
            "1   A001      M    Paris   25       John      Alter                  2   \n",
            "2   A001      M    Paris   25       John      Alter                  2   \n",
            "3   A002      F   London   27      Alice  Luxumberg                  2   \n",
            "4   A002      F   London   27      Alice  Luxumberg                  2   \n",
            "5   A003      M   Berlin   29        Tom  Sabestine                  3   \n",
            "6   A003      M   Berlin   29        Tom  Sabestine                  3   \n",
            "7   A003      M   Berlin   29        Tom  Sabestine                  3   \n",
            "8   A004      F  Newyork   31       Nina      Adgra                  2   \n",
            "9   A004      F  Newyork   31       Nina      Adgra                  2   \n",
            "10  A004      F  Newyork   31       Nina      Adgra                  2   \n",
            "11  A005      F   Madrid   30        Amy      Johny                  3   \n",
            "12  A005      F   Madrid   30        Amy      Johny                  3   \n",
            "13  A005      F   Madrid   30        Amy      Johny                  3   \n",
            "\n",
            "       Project       Cost    Status  \n",
            "0    Project 1  1002000.0  Finished  \n",
            "1    Project 9  2210312.5   Ongoing  \n",
            "2   Project 11  2000000.0    Failed  \n",
            "3    Project 2  2000000.0   Ongoing  \n",
            "4    Project 6   680000.0    Failed  \n",
            "5    Project 3  4500000.0  Finished  \n",
            "6    Project 8   350000.0    Failed  \n",
            "7   Project 10   300000.0  Finished  \n",
            "8    Project 4  5500000.0   Ongoing  \n",
            "9   Project 12  1000000.0   Ongoing  \n",
            "10  Project 13  3000000.0  Finished  \n",
            "11   Project 5  3250500.0  Finished  \n",
            "12   Project 7   400000.0  Finished  \n",
            "13  Project 14   200000.0  Finished  \n"
          ]
        }
      ]
    },
    {
      "cell_type": "code",
      "source": [
        "import numpy as np\n",
        "\n",
        "#Using np.where(). It checks each row's Status and assigns 5% of Cost if 'Finished', else 0\n",
        "Final['Bonus'] = np.where(\n",
        "    Final['Status'] == 'Finished',\n",
        "    0.05 * Final['Cost'],\n",
        "    0\n",
        ")\n",
        "\n",
        "#Display updated DataFrame\n",
        "print(Final[['ID', 'Project', 'Status', 'Cost', 'Bonus']])"
      ],
      "metadata": {
        "colab": {
          "base_uri": "https://localhost:8080/"
        },
        "id": "dtNCaR7YpLPu",
        "outputId": "2ef01243-8cbf-4943-b79d-ccb99fc8ad46"
      },
      "execution_count": 18,
      "outputs": [
        {
          "output_type": "stream",
          "name": "stdout",
          "text": [
            "      ID     Project    Status       Cost     Bonus\n",
            "0   A001   Project 1  Finished  1002000.0   50100.0\n",
            "1   A001   Project 9   Ongoing  2210312.5       0.0\n",
            "2   A001  Project 11    Failed  2000000.0       0.0\n",
            "3   A002   Project 2   Ongoing  2000000.0       0.0\n",
            "4   A002   Project 6    Failed   680000.0       0.0\n",
            "5   A003   Project 3  Finished  4500000.0  225000.0\n",
            "6   A003   Project 8    Failed   350000.0       0.0\n",
            "7   A003  Project 10  Finished   300000.0   15000.0\n",
            "8   A004   Project 4   Ongoing  5500000.0       0.0\n",
            "9   A004  Project 12   Ongoing  1000000.0       0.0\n",
            "10  A004  Project 13  Finished  3000000.0  150000.0\n",
            "11  A005   Project 5  Finished  3250500.0  162525.0\n",
            "12  A005   Project 7  Finished   400000.0   20000.0\n",
            "13  A005  Project 14  Finished   200000.0   10000.0\n"
          ]
        }
      ]
    },
    {
      "cell_type": "code",
      "source": [
        "#Demote Designation_Level by 1 for status with \"fail\"\n",
        "#.str.lower() ensures we catch \"fail\", \"Fail\", \"FAILED\" consistently\n",
        "Final.loc[Final['Status'].str.lower() == 'fail', 'Designation_Level'] -= 1\n",
        "\n",
        "#Delete (drop) records where designation level is now above 4\n",
        "Final = Final[Final['Designation_Level'] <= 4].reset_index(drop=True)\n",
        "\n",
        "#Display the data\n",
        "print(Final[['ID', 'Project', 'Status', 'Designation_Level']])\n"
      ],
      "metadata": {
        "colab": {
          "base_uri": "https://localhost:8080/"
        },
        "id": "P-rM9Yjlq-nT",
        "outputId": "09f135bd-8011-4eec-ee9c-e12db7ce4762"
      },
      "execution_count": 24,
      "outputs": [
        {
          "output_type": "stream",
          "name": "stdout",
          "text": [
            "      ID     Project    Status  Designation_Level\n",
            "0   A001   Project 1  Finished                  2\n",
            "1   A001   Project 9   Ongoing                  2\n",
            "2   A001  Project 11    Failed                  1\n",
            "3   A002   Project 2   Ongoing                  2\n",
            "4   A002   Project 6    Failed                  1\n",
            "5   A003   Project 3  Finished                  3\n",
            "6   A003   Project 8    Failed                  2\n",
            "7   A003  Project 10  Finished                  3\n",
            "8   A004   Project 4   Ongoing                  3\n",
            "9   A004  Project 12   Ongoing                  3\n",
            "10  A004  Project 13  Finished                  3\n",
            "11  A005   Project 5  Finished                  4\n",
            "12  A005   Project 7  Finished                  4\n",
            "13  A005  Project 14  Finished                  4\n"
          ]
        }
      ]
    },
    {
      "cell_type": "code",
      "source": [
        "#Adding “Mr.” and “Mrs.” to the first name column\n",
        "Final['First Name'] = Final.apply(\n",
        "    lambda row: ('Mr. ' if row['Gender'] == 'M' else 'Mrs. ') + row['First Name'],\n",
        "    axis=1\n",
        ")\n",
        "\n",
        "#Drop the Gender column\n",
        "Final.drop(columns=['Gender'], inplace=True)\n",
        "\n",
        "#Display the updated data\n",
        "print(Final[['ID', 'First Name', 'LastName']])\n"
      ],
      "metadata": {
        "colab": {
          "base_uri": "https://localhost:8080/"
        },
        "id": "3B4rtoNgs5Mw",
        "outputId": "40939390-c800-4716-c457-4a7eebcb8d3b"
      },
      "execution_count": 20,
      "outputs": [
        {
          "output_type": "stream",
          "name": "stdout",
          "text": [
            "      ID  First Name   LastName\n",
            "0   A001    Mr. John      Alter\n",
            "1   A001    Mr. John      Alter\n",
            "2   A001    Mr. John      Alter\n",
            "3   A002  Mrs. Alice  Luxumberg\n",
            "4   A002  Mrs. Alice  Luxumberg\n",
            "5   A003     Mr. Tom  Sabestine\n",
            "6   A003     Mr. Tom  Sabestine\n",
            "7   A003     Mr. Tom  Sabestine\n",
            "8   A004   Mrs. Nina      Adgra\n",
            "9   A004   Mrs. Nina      Adgra\n",
            "10  A004   Mrs. Nina      Adgra\n",
            "11  A005    Mrs. Amy      Johny\n",
            "12  A005    Mrs. Amy      Johny\n",
            "13  A005    Mrs. Amy      Johny\n"
          ]
        }
      ]
    },
    {
      "cell_type": "code",
      "source": [
        "# Promote designation level for age > 29 using Boolean indexing\n",
        "Final.loc[Final['Age'] > 29, 'Designation_Level'] += 1\n",
        "\n",
        "# Display the updated data\n",
        "print(Final[['ID', 'Age', 'Designation_Level']])\n"
      ],
      "metadata": {
        "colab": {
          "base_uri": "https://localhost:8080/"
        },
        "id": "-BoJdCkftnDZ",
        "outputId": "a14570fa-ff27-4b1e-f5fc-63b36671ac05"
      },
      "execution_count": 21,
      "outputs": [
        {
          "output_type": "stream",
          "name": "stdout",
          "text": [
            "      ID  Age  Designation_Level\n",
            "0   A001   25                  2\n",
            "1   A001   25                  2\n",
            "2   A001   25                  1\n",
            "3   A002   27                  2\n",
            "4   A002   27                  1\n",
            "5   A003   29                  3\n",
            "6   A003   29                  2\n",
            "7   A003   29                  3\n",
            "8   A004   31                  3\n",
            "9   A004   31                  3\n",
            "10  A004   31                  3\n",
            "11  A005   30                  4\n",
            "12  A005   30                  4\n",
            "13  A005   30                  4\n"
          ]
        }
      ]
    },
    {
      "cell_type": "code",
      "source": [
        "#Group by ID and First Name, and sum the Cost\n",
        "#Sums their associated Cost values\n",
        "TotalProjCost = Final.groupby(['ID', 'First Name'], as_index=False)['Cost'].sum()\n",
        "\n",
        "#Rename 'Cost' column to 'Total cost'\n",
        "TotalProjCost.rename(columns={'Cost': 'Total cost'}, inplace=True)\n",
        "\n",
        "#Save as TotalProjCost\n",
        "TotalProjCost.to_csv('TotalProjCost.csv', index=False)\n",
        "\n",
        "#Display the dataframe\n",
        "print(TotalProjCost)\n"
      ],
      "metadata": {
        "colab": {
          "base_uri": "https://localhost:8080/"
        },
        "id": "0tc7Ga0tu393",
        "outputId": "c6ddda75-c069-4ff8-880c-dc8017236f52"
      },
      "execution_count": 22,
      "outputs": [
        {
          "output_type": "stream",
          "name": "stdout",
          "text": [
            "     ID  First Name  Total cost\n",
            "0  A001    Mr. John   5212312.5\n",
            "1  A002  Mrs. Alice   2680000.0\n",
            "2  A003     Mr. Tom   5150000.0\n",
            "3  A004   Mrs. Nina   9500000.0\n",
            "4  A005    Mrs. Amy   3850500.0\n"
          ]
        }
      ]
    },
    {
      "cell_type": "code",
      "source": [
        "#First filter rows where 'City' contains the letter 'o'\n",
        "employees_with_city_o = Final[Final['City'].str.contains('o', case=False)]\n",
        "\n",
        "#Print full employee details\n",
        "print(employees_with_city_o)\n"
      ],
      "metadata": {
        "colab": {
          "base_uri": "https://localhost:8080/"
        },
        "id": "LBDYyGJPvv7R",
        "outputId": "eb957ec1-1b40-4689-cc2b-fdcbdfaad01e"
      },
      "execution_count": 23,
      "outputs": [
        {
          "output_type": "stream",
          "name": "stdout",
          "text": [
            "      ID     City  Age  First Name   LastName  Designation_Level     Project  \\\n",
            "3   A002   London   27  Mrs. Alice  Luxumberg                  2   Project 2   \n",
            "4   A002   London   27  Mrs. Alice  Luxumberg                  1   Project 6   \n",
            "8   A004  Newyork   31   Mrs. Nina      Adgra                  3   Project 4   \n",
            "9   A004  Newyork   31   Mrs. Nina      Adgra                  3  Project 12   \n",
            "10  A004  Newyork   31   Mrs. Nina      Adgra                  3  Project 13   \n",
            "\n",
            "         Cost    Status     Bonus  \n",
            "3   2000000.0   Ongoing       0.0  \n",
            "4    680000.0    Failed       0.0  \n",
            "8   5500000.0   Ongoing       0.0  \n",
            "9   1000000.0   Ongoing       0.0  \n",
            "10  3000000.0  Finished  150000.0  \n"
          ]
        }
      ]
    }
  ]
}